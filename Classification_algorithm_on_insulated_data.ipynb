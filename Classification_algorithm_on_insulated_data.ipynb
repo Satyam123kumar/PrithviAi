{
  "nbformat": 4,
  "nbformat_minor": 0,
  "metadata": {
    "colab": {
      "name": "Classification_algorithm_on_insulated_data.ipynb",
      "provenance": [],
      "collapsed_sections": []
    },
    "kernelspec": {
      "display_name": "Python 3",
      "name": "python3"
    },
    "language_info": {
      "name": "python"
    }
  },
  "cells": [
    {
      "cell_type": "code",
      "metadata": {
        "colab": {
          "base_uri": "https://localhost:8080/"
        },
        "id": "oe1AMHa21WAj",
        "outputId": "a236043e-3608-4adb-ed9d-d007d42e9175"
      },
      "source": [
        "from google.colab import drive\n",
        "drive.mount('/content/gdrive')"
      ],
      "execution_count": null,
      "outputs": [
        {
          "output_type": "stream",
          "name": "stdout",
          "text": [
            "Mounted at /content/gdrive\n"
          ]
        }
      ]
    },
    {
      "cell_type": "code",
      "metadata": {
        "id": "nhZdM_D41vt-"
      },
      "source": [
        "root_path='/content/gdrive/MyDrive/Datasets/insulator_data/Defective_Insulators/images/'"
      ],
      "execution_count": null,
      "outputs": []
    },
    {
      "cell_type": "code",
      "metadata": {
        "id": "9ooLsVhl32Rb"
      },
      "source": [
        "import pandas as pd\n",
        "import numpy as np\n",
        "import cv2\n",
        "import os\n",
        "from pathlib import Path\n",
        "import glob\n",
        "import os\n",
        "import cv2\n",
        "import matplotlib.pyplot as plt\n",
        "from PIL import Image\n",
        "import tensorflow as tf\n",
        "from tensorflow import keras\n",
        "from tensorflow.keras import layers\n",
        "from tensorflow.keras.models import Sequential\n",
        "import tensorflow_hub as hub"
      ],
      "execution_count": null,
      "outputs": []
    },
    {
      "cell_type": "code",
      "metadata": {
        "colab": {
          "base_uri": "https://localhost:8080/"
        },
        "id": "j_zf_Jyo429q",
        "outputId": "4cd03cda-fa27-47a3-d350-3db2484b52a5"
      },
      "source": [
        "img = cv2.imread('/content/gdrive/MyDrive/Datasets/insulator_data/Defective_Insulators/images/000.jpg', cv2.IMREAD_COLOR)\n",
        "img"
      ],
      "execution_count": null,
      "outputs": [
        {
          "output_type": "execute_result",
          "data": {
            "text/plain": [
              "array([[[217, 204, 206],\n",
              "        [217, 204, 206],\n",
              "        [217, 204, 206],\n",
              "        ...,\n",
              "        [127, 126, 135],\n",
              "        [127, 127, 133],\n",
              "        [129, 129, 135]],\n",
              "\n",
              "       [[217, 204, 206],\n",
              "        [217, 204, 206],\n",
              "        [217, 204, 206],\n",
              "        ...,\n",
              "        [126, 125, 134],\n",
              "        [126, 126, 132],\n",
              "        [127, 127, 133]],\n",
              "\n",
              "       [[217, 204, 206],\n",
              "        [217, 204, 206],\n",
              "        [217, 204, 206],\n",
              "        ...,\n",
              "        [126, 125, 134],\n",
              "        [125, 125, 131],\n",
              "        [126, 126, 132]],\n",
              "\n",
              "       ...,\n",
              "\n",
              "       [[107, 118,  98],\n",
              "        [112, 123, 103],\n",
              "        [115, 126, 106],\n",
              "        ...,\n",
              "        [145, 146, 130],\n",
              "        [138, 141, 126],\n",
              "        [136, 139, 124]],\n",
              "\n",
              "       [[111, 122, 102],\n",
              "        [113, 124, 104],\n",
              "        [111, 122, 102],\n",
              "        ...,\n",
              "        [138, 139, 123],\n",
              "        [135, 138, 123],\n",
              "        [131, 134, 119]],\n",
              "\n",
              "       [[113, 124, 104],\n",
              "        [113, 124, 104],\n",
              "        [111, 122, 102],\n",
              "        ...,\n",
              "        [131, 132, 116],\n",
              "        [135, 138, 123],\n",
              "        [135, 138, 123]]], dtype=uint8)"
            ]
          },
          "metadata": {},
          "execution_count": 4
        }
      ]
    },
    {
      "cell_type": "code",
      "metadata": {
        "id": "NJeibNKy2Jxc"
      },
      "source": [
        "image = []                  # used to store image data\n",
        "img_label = []              # used to store image label\n",
        "img_indexes = []            # used to store image name\n",
        "for i in range(248):\n",
        "  img = cv2.imread('/content/gdrive/MyDrive/Datasets/insulator_data/Defective_Insulators/images/'+str(f'{i:03}')+'.jpg', cv2.IMREAD_COLOR)  \n",
        "    # read image using opencv \n",
        "  img = cv2.resize(img, (224,224))                                                                   #resize image \n",
        "  img = cv2.cvtColor(img, cv2.COLOR_RGB2BGR)\n",
        "  image.append(img)\n",
        "  img_label.append(0)                             #store label of each image in img_label\n",
        "  img_indexes.append(f'{i:03}')"
      ],
      "execution_count": null,
      "outputs": []
    },
    {
      "cell_type": "code",
      "metadata": {
        "colab": {
          "base_uri": "https://localhost:8080/"
        },
        "id": "AFw192pk-BJZ",
        "outputId": "b9177dfa-68b5-46d4-b101-fa22417cd52e"
      },
      "source": [
        "print(len(image))"
      ],
      "execution_count": null,
      "outputs": [
        {
          "output_type": "stream",
          "name": "stdout",
          "text": [
            "248\n"
          ]
        }
      ]
    },
    {
      "cell_type": "code",
      "metadata": {
        "colab": {
          "base_uri": "https://localhost:8080/"
        },
        "id": "tZu_xDpn-LzM",
        "outputId": "ba822248-f153-4211-bbf7-c72f9e9f980f"
      },
      "source": [
        "print(img_indexes[-1])"
      ],
      "execution_count": null,
      "outputs": [
        {
          "output_type": "stream",
          "name": "stdout",
          "text": [
            "247\n"
          ]
        }
      ]
    },
    {
      "cell_type": "code",
      "metadata": {
        "id": "WHKlcIK_-9Le"
      },
      "source": [
        "image1 = []                  # used to store image data\n",
        "img_label1 = []              # used to store image label\n",
        "img_indexes1 = []            # used to store image name\n",
        "for i in range(3617):\n",
        "    if (os.path.exists(\"/content/gdrive/MyDrive/Datasets/insulator_data/Normal_Insulators/images/\"+str(f'{i:04}')+'.jpg') == True):         # check if image exists or not\n",
        "        img = cv2.imread('/content/gdrive/MyDrive/Datasets/insulator_data/Normal_Insulators/images/'+str(f'{i:04}')+'.jpg', cv2.IMREAD_COLOR)       # read image using opencv \n",
        "        img = cv2.resize(img, (224,224))                                                                   #resize image \n",
        "        img = cv2.cvtColor(img, cv2.COLOR_RGB2BGR)\n",
        "        image1.append(img)\n",
        "        img_label1.append(1)                             #store label of each image in img_label\n",
        "        img_indexes1.append(f'{i:03}')\n",
        "    else:\n",
        "        pass"
      ],
      "execution_count": null,
      "outputs": []
    },
    {
      "cell_type": "code",
      "metadata": {
        "colab": {
          "base_uri": "https://localhost:8080/"
        },
        "id": "j3TqU9sfIhjK",
        "outputId": "561612b5-60fc-40fe-c2af-225dad36d6ce"
      },
      "source": [
        "print(len(image1))"
      ],
      "execution_count": null,
      "outputs": [
        {
          "output_type": "stream",
          "name": "stdout",
          "text": [
            "600\n"
          ]
        }
      ]
    },
    {
      "cell_type": "code",
      "metadata": {
        "id": "YLsPhLXEJeMb"
      },
      "source": [
        "final_img=np.array(image+image1)\n",
        "final_label=np.array(img_label+img_label1)"
      ],
      "execution_count": null,
      "outputs": []
    },
    {
      "cell_type": "code",
      "metadata": {
        "colab": {
          "base_uri": "https://localhost:8080/"
        },
        "id": "FDe-7Wh3sF6V",
        "outputId": "004e614c-2db5-4030-bcc0-bffffe3c8d05"
      },
      "source": [
        "final_img"
      ],
      "execution_count": null,
      "outputs": [
        {
          "output_type": "execute_result",
          "data": {
            "text/plain": [
              "array([[[[206, 204, 217],\n",
              "         [206, 204, 217],\n",
              "         [206, 204, 217],\n",
              "         ...,\n",
              "         [ 53,  47,  51],\n",
              "         [132, 123, 123],\n",
              "         [134, 125, 126]],\n",
              "\n",
              "        [[206, 204, 216],\n",
              "         [206, 204, 216],\n",
              "         [206, 204, 216],\n",
              "         ...,\n",
              "         [ 57,  51,  53],\n",
              "         [132, 124, 123],\n",
              "         [136, 127, 128]],\n",
              "\n",
              "        [[206, 204, 215],\n",
              "         [206, 204, 215],\n",
              "         [206, 204, 215],\n",
              "         ...,\n",
              "         [ 59,  53,  53],\n",
              "         [136, 128, 126],\n",
              "         [139, 130, 131]],\n",
              "\n",
              "        ...,\n",
              "\n",
              "        [[ 88, 109, 100],\n",
              "         [ 93, 114, 109],\n",
              "         [ 97, 120, 112],\n",
              "         ...,\n",
              "         [113, 134, 133],\n",
              "         [111, 132, 135],\n",
              "         [108, 132, 132]],\n",
              "\n",
              "        [[ 98, 118, 109],\n",
              "         [ 99, 119, 111],\n",
              "         [ 97, 117, 111],\n",
              "         ...,\n",
              "         [111, 129, 129],\n",
              "         [114, 132, 133],\n",
              "         [115, 134, 132]],\n",
              "\n",
              "        [[104, 124, 113],\n",
              "         [104, 121, 111],\n",
              "         [107, 121, 114],\n",
              "         ...,\n",
              "         [115, 135, 134],\n",
              "         [121, 141, 140],\n",
              "         [126, 141, 141]]],\n",
              "\n",
              "\n",
              "       [[[175, 184, 193],\n",
              "         [176, 183, 193],\n",
              "         [178, 185, 195],\n",
              "         ...,\n",
              "         [198, 198, 203],\n",
              "         [198, 197, 202],\n",
              "         [197, 196, 201]],\n",
              "\n",
              "        [[174, 184, 193],\n",
              "         [174, 183, 192],\n",
              "         [176, 183, 193],\n",
              "         ...,\n",
              "         [194, 197, 202],\n",
              "         [194, 196, 201],\n",
              "         [194, 195, 200]],\n",
              "\n",
              "        [[171, 180, 189],\n",
              "         [172, 181, 190],\n",
              "         [173, 182, 191],\n",
              "         ...,\n",
              "         [186, 191, 197],\n",
              "         [186, 191, 197],\n",
              "         [186, 191, 197]],\n",
              "\n",
              "        ...,\n",
              "\n",
              "        [[156, 154, 158],\n",
              "         [169, 167, 169],\n",
              "         [175, 170, 167],\n",
              "         ...,\n",
              "         [109, 109, 112],\n",
              "         [123, 118, 114],\n",
              "         [108,  99,  90]],\n",
              "\n",
              "        [[158, 157, 162],\n",
              "         [175, 171, 170],\n",
              "         [175, 170, 167],\n",
              "         ...,\n",
              "         [102, 102, 105],\n",
              "         [137, 130, 126],\n",
              "         [112, 105,  97]],\n",
              "\n",
              "        [[159, 158, 164],\n",
              "         [177, 174, 170],\n",
              "         [178, 173, 170],\n",
              "         ...,\n",
              "         [100,  97,  99],\n",
              "         [135, 126, 124],\n",
              "         [113, 108, 102]]],\n",
              "\n",
              "\n",
              "       [[[102, 109, 107],\n",
              "         [104, 108, 111],\n",
              "         [108, 110, 112],\n",
              "         ...,\n",
              "         [ 85,  95,  97],\n",
              "         [ 86,  96,  97],\n",
              "         [ 82,  91,  98]],\n",
              "\n",
              "        [[104, 113, 110],\n",
              "         [102, 111, 110],\n",
              "         [103, 110, 109],\n",
              "         ...,\n",
              "         [ 85,  95,  98],\n",
              "         [ 82,  92,  95],\n",
              "         [ 84,  93,  98]],\n",
              "\n",
              "        [[105, 116, 110],\n",
              "         [ 98, 109, 105],\n",
              "         [103, 112, 109],\n",
              "         ...,\n",
              "         [ 82,  92,  94],\n",
              "         [ 81,  90,  95],\n",
              "         [ 84,  93,  98]],\n",
              "\n",
              "        ...,\n",
              "\n",
              "        [[217, 129, 154],\n",
              "         [217, 131, 155],\n",
              "         [216, 131, 156],\n",
              "         ...,\n",
              "         [200, 171, 173],\n",
              "         [202, 170, 171],\n",
              "         [201, 169, 174]],\n",
              "\n",
              "        [[222, 136, 161],\n",
              "         [222, 138, 162],\n",
              "         [223, 139, 163],\n",
              "         ...,\n",
              "         [195, 163, 169],\n",
              "         [199, 162, 169],\n",
              "         [198, 163, 167]],\n",
              "\n",
              "        [[226, 140, 165],\n",
              "         [225, 140, 164],\n",
              "         [225, 140, 164],\n",
              "         ...,\n",
              "         [189, 162, 156],\n",
              "         [199, 168, 170],\n",
              "         [162, 139, 127]]],\n",
              "\n",
              "\n",
              "       ...,\n",
              "\n",
              "\n",
              "       [[[133, 148, 159],\n",
              "         [130, 148, 157],\n",
              "         [130, 148, 161],\n",
              "         ...,\n",
              "         [160, 175, 189],\n",
              "         [158, 173, 188],\n",
              "         [156, 171, 186]],\n",
              "\n",
              "        [[131, 146, 162],\n",
              "         [129, 146, 160],\n",
              "         [127, 143, 159],\n",
              "         ...,\n",
              "         [167, 180, 188],\n",
              "         [166, 181, 188],\n",
              "         [166, 180, 188]],\n",
              "\n",
              "        [[129, 143, 156],\n",
              "         [128, 146, 160],\n",
              "         [130, 143, 159],\n",
              "         ...,\n",
              "         [169, 184, 187],\n",
              "         [169, 184, 187],\n",
              "         [165, 180, 183]],\n",
              "\n",
              "        ...,\n",
              "\n",
              "        [[ 86, 103,  67],\n",
              "         [ 87, 104,  68],\n",
              "         [ 95, 109,  76],\n",
              "         ...,\n",
              "         [ 74, 101,  55],\n",
              "         [ 71,  98,  55],\n",
              "         [ 59,  83,  49]],\n",
              "\n",
              "        [[ 89, 106,  74],\n",
              "         [ 89, 103,  74],\n",
              "         [ 91, 107,  73],\n",
              "         ...,\n",
              "         [ 72,  97,  56],\n",
              "         [ 65,  89,  52],\n",
              "         [ 64,  88,  52]],\n",
              "\n",
              "        [[ 99, 115,  78],\n",
              "         [ 85, 100,  70],\n",
              "         [ 91, 108,  71],\n",
              "         ...,\n",
              "         [ 64,  91,  50],\n",
              "         [ 69,  95,  55],\n",
              "         [ 67,  89,  55]]],\n",
              "\n",
              "\n",
              "       [[[110, 124, 125],\n",
              "         [130, 144, 137],\n",
              "         [132, 149, 143],\n",
              "         ...,\n",
              "         [136, 139, 145],\n",
              "         [129, 134, 136],\n",
              "         [121, 127, 140]],\n",
              "\n",
              "        [[122, 136, 136],\n",
              "         [133, 146, 141],\n",
              "         [136, 144, 144],\n",
              "         ...,\n",
              "         [115, 117, 129],\n",
              "         [116, 125, 120],\n",
              "         [118, 126, 139]],\n",
              "\n",
              "        [[115, 129, 129],\n",
              "         [134, 146, 140],\n",
              "         [138, 142, 145],\n",
              "         ...,\n",
              "         [113, 128, 138],\n",
              "         [151, 165, 170],\n",
              "         [171, 166, 182]],\n",
              "\n",
              "        ...,\n",
              "\n",
              "        [[140, 133, 114],\n",
              "         [121, 131,  97],\n",
              "         [117, 127,  94],\n",
              "         ...,\n",
              "         [162, 151, 142],\n",
              "         [168, 161, 148],\n",
              "         [152, 151, 133]],\n",
              "\n",
              "        [[137, 138, 116],\n",
              "         [119, 127,  96],\n",
              "         [112, 123,  88],\n",
              "         ...,\n",
              "         [157, 146, 135],\n",
              "         [144, 135, 122],\n",
              "         [143, 137, 123]],\n",
              "\n",
              "        [[122, 125, 105],\n",
              "         [121, 130,  97],\n",
              "         [124, 130, 102],\n",
              "         ...,\n",
              "         [131, 129, 114],\n",
              "         [168, 160, 144],\n",
              "         [137, 130, 113]]],\n",
              "\n",
              "\n",
              "       [[[168, 171, 176],\n",
              "         [168, 171, 176],\n",
              "         [168, 173, 175],\n",
              "         ...,\n",
              "         [155, 156, 166],\n",
              "         [ 66,  67,  71],\n",
              "         [ 68,  67,  63]],\n",
              "\n",
              "        [[167, 171, 176],\n",
              "         [169, 173, 177],\n",
              "         [169, 172, 177],\n",
              "         ...,\n",
              "         [131, 132, 151],\n",
              "         [ 65,  65,  71],\n",
              "         [ 75,  71,  67]],\n",
              "\n",
              "        [[167, 172, 176],\n",
              "         [168, 171, 176],\n",
              "         [168, 171, 176],\n",
              "         ...,\n",
              "         [108, 109, 133],\n",
              "         [ 66,  65,  70],\n",
              "         [ 73,  73,  65]],\n",
              "\n",
              "        ...,\n",
              "\n",
              "        [[ 84,  78,  80],\n",
              "         [ 78,  76,  79],\n",
              "         [ 78,  75,  80],\n",
              "         ...,\n",
              "         [ 83,  84,  87],\n",
              "         [ 87,  87,  88],\n",
              "         [ 88,  86,  88]],\n",
              "\n",
              "        [[ 70,  72,  80],\n",
              "         [ 63,  69,  78],\n",
              "         [ 61,  67,  80],\n",
              "         ...,\n",
              "         [ 76,  77,  81],\n",
              "         [ 75,  78,  81],\n",
              "         [ 82,  83,  87]],\n",
              "\n",
              "        [[ 61,  68,  83],\n",
              "         [ 61,  69,  83],\n",
              "         [ 60,  69,  84],\n",
              "         ...,\n",
              "         [ 89,  88,  85],\n",
              "         [ 97,  96,  92],\n",
              "         [ 99,  98,  95]]]], dtype=uint8)"
            ]
          },
          "metadata": {},
          "execution_count": 11
        }
      ]
    },
    {
      "cell_type": "code",
      "metadata": {
        "colab": {
          "base_uri": "https://localhost:8080/"
        },
        "id": "X6zzyt6SLeGp",
        "outputId": "ff71546b-d7e5-420b-e387-992635482f83"
      },
      "source": [
        "print(final_label[48])"
      ],
      "execution_count": null,
      "outputs": [
        {
          "output_type": "stream",
          "name": "stdout",
          "text": [
            "0\n"
          ]
        }
      ]
    },
    {
      "cell_type": "code",
      "metadata": {
        "colab": {
          "base_uri": "https://localhost:8080/"
        },
        "id": "gTbha05UqzLW",
        "outputId": "07a749a3-1858-4e53-e3ff-44a7420cdd42"
      },
      "source": [
        "print(final_img.shape)\n",
        "print(final_img.shape[1])\n",
        "print(final_img.shape[2])\n",
        "f = (final_img.shape[0], final_img.shape[2])\n",
        "print(f)"
      ],
      "execution_count": null,
      "outputs": [
        {
          "output_type": "stream",
          "name": "stdout",
          "text": [
            "(848, 224, 224, 3)\n",
            "224\n",
            "224\n",
            "(848, 224)\n"
          ]
        }
      ]
    },
    {
      "cell_type": "code",
      "metadata": {
        "colab": {
          "base_uri": "https://localhost:8080/",
          "height": 206
        },
        "id": "eFrk3x1GYwEX",
        "outputId": "7aa2bd31-f228-486e-e89d-30635b53afd8"
      },
      "source": [
        "df = pd.DataFrame(list(zip(final_img, final_label)),columns =['Image','label'])\n",
        "df.head()"
      ],
      "execution_count": null,
      "outputs": [
        {
          "output_type": "execute_result",
          "data": {
            "text/html": [
              "<div>\n",
              "<style scoped>\n",
              "    .dataframe tbody tr th:only-of-type {\n",
              "        vertical-align: middle;\n",
              "    }\n",
              "\n",
              "    .dataframe tbody tr th {\n",
              "        vertical-align: top;\n",
              "    }\n",
              "\n",
              "    .dataframe thead th {\n",
              "        text-align: right;\n",
              "    }\n",
              "</style>\n",
              "<table border=\"1\" class=\"dataframe\">\n",
              "  <thead>\n",
              "    <tr style=\"text-align: right;\">\n",
              "      <th></th>\n",
              "      <th>Image</th>\n",
              "      <th>label</th>\n",
              "    </tr>\n",
              "  </thead>\n",
              "  <tbody>\n",
              "    <tr>\n",
              "      <th>0</th>\n",
              "      <td>[[[206, 204, 217], [206, 204, 217], [206, 204,...</td>\n",
              "      <td>0</td>\n",
              "    </tr>\n",
              "    <tr>\n",
              "      <th>1</th>\n",
              "      <td>[[[175, 184, 193], [176, 183, 193], [178, 185,...</td>\n",
              "      <td>0</td>\n",
              "    </tr>\n",
              "    <tr>\n",
              "      <th>2</th>\n",
              "      <td>[[[102, 109, 107], [104, 108, 111], [108, 110,...</td>\n",
              "      <td>0</td>\n",
              "    </tr>\n",
              "    <tr>\n",
              "      <th>3</th>\n",
              "      <td>[[[203, 207, 216], [203, 207, 216], [204, 208,...</td>\n",
              "      <td>0</td>\n",
              "    </tr>\n",
              "    <tr>\n",
              "      <th>4</th>\n",
              "      <td>[[[157, 183, 154], [156, 183, 152], [159, 186,...</td>\n",
              "      <td>0</td>\n",
              "    </tr>\n",
              "  </tbody>\n",
              "</table>\n",
              "</div>"
            ],
            "text/plain": [
              "                                               Image  label\n",
              "0  [[[206, 204, 217], [206, 204, 217], [206, 204,...      0\n",
              "1  [[[175, 184, 193], [176, 183, 193], [178, 185,...      0\n",
              "2  [[[102, 109, 107], [104, 108, 111], [108, 110,...      0\n",
              "3  [[[203, 207, 216], [203, 207, 216], [204, 208,...      0\n",
              "4  [[[157, 183, 154], [156, 183, 152], [159, 186,...      0"
            ]
          },
          "metadata": {},
          "execution_count": 14
        }
      ]
    },
    {
      "cell_type": "code",
      "metadata": {
        "id": "nKAO6-hUbt0N"
      },
      "source": [
        "df = df.sample(frac = 1)"
      ],
      "execution_count": null,
      "outputs": []
    },
    {
      "cell_type": "code",
      "metadata": {
        "colab": {
          "base_uri": "https://localhost:8080/",
          "height": 206
        },
        "id": "bpteFxGubw3Z",
        "outputId": "b5f58c92-6f0f-4f34-8ad8-c385d0247002"
      },
      "source": [
        "df.head()"
      ],
      "execution_count": null,
      "outputs": [
        {
          "output_type": "execute_result",
          "data": {
            "text/html": [
              "<div>\n",
              "<style scoped>\n",
              "    .dataframe tbody tr th:only-of-type {\n",
              "        vertical-align: middle;\n",
              "    }\n",
              "\n",
              "    .dataframe tbody tr th {\n",
              "        vertical-align: top;\n",
              "    }\n",
              "\n",
              "    .dataframe thead th {\n",
              "        text-align: right;\n",
              "    }\n",
              "</style>\n",
              "<table border=\"1\" class=\"dataframe\">\n",
              "  <thead>\n",
              "    <tr style=\"text-align: right;\">\n",
              "      <th></th>\n",
              "      <th>Image</th>\n",
              "      <th>label</th>\n",
              "    </tr>\n",
              "  </thead>\n",
              "  <tbody>\n",
              "    <tr>\n",
              "      <th>79</th>\n",
              "      <td>[[[140, 172, 122], [140, 172, 123], [133, 166,...</td>\n",
              "      <td>0</td>\n",
              "    </tr>\n",
              "    <tr>\n",
              "      <th>725</th>\n",
              "      <td>[[[182, 187, 191], [181, 186, 190], [182, 186,...</td>\n",
              "      <td>1</td>\n",
              "    </tr>\n",
              "    <tr>\n",
              "      <th>120</th>\n",
              "      <td>[[[143, 147, 150], [148, 153, 155], [144, 153,...</td>\n",
              "      <td>0</td>\n",
              "    </tr>\n",
              "    <tr>\n",
              "      <th>457</th>\n",
              "      <td>[[[209, 195, 186], [207, 193, 183], [208, 194,...</td>\n",
              "      <td>1</td>\n",
              "    </tr>\n",
              "    <tr>\n",
              "      <th>662</th>\n",
              "      <td>[[[61, 65, 58], [58, 50, 52], [75, 63, 65], [8...</td>\n",
              "      <td>1</td>\n",
              "    </tr>\n",
              "  </tbody>\n",
              "</table>\n",
              "</div>"
            ],
            "text/plain": [
              "                                                 Image  label\n",
              "79   [[[140, 172, 122], [140, 172, 123], [133, 166,...      0\n",
              "725  [[[182, 187, 191], [181, 186, 190], [182, 186,...      1\n",
              "120  [[[143, 147, 150], [148, 153, 155], [144, 153,...      0\n",
              "457  [[[209, 195, 186], [207, 193, 183], [208, 194,...      1\n",
              "662  [[[61, 65, 58], [58, 50, 52], [75, 63, 65], [8...      1"
            ]
          },
          "metadata": {},
          "execution_count": 16
        }
      ]
    },
    {
      "cell_type": "code",
      "metadata": {
        "colab": {
          "base_uri": "https://localhost:8080/"
        },
        "id": "crnx03F_cXWE",
        "outputId": "b9fb877a-2e63-4afa-ec44-2fea810bcbdc"
      },
      "source": [
        "df['Image'].shape"
      ],
      "execution_count": null,
      "outputs": [
        {
          "output_type": "execute_result",
          "data": {
            "text/plain": [
              "(848,)"
            ]
          },
          "metadata": {},
          "execution_count": 17
        }
      ]
    },
    {
      "cell_type": "code",
      "metadata": {
        "id": "wqBG4nKgcxhS"
      },
      "source": [
        "from sklearn.model_selection import train_test_split\n",
        "x_train, x_test, y_train, y_test = train_test_split(df['Image'], df.label, test_size = 0.2, random_state = 100)"
      ],
      "execution_count": null,
      "outputs": []
    },
    {
      "cell_type": "code",
      "metadata": {
        "colab": {
          "base_uri": "https://localhost:8080/"
        },
        "id": "7sqYgskjc7cA",
        "outputId": "18b57984-fa02-4846-879a-a0700bc3dd66"
      },
      "source": [
        "x_train.shape, x_test.shape, y_train.shape, y_test.shape"
      ],
      "execution_count": null,
      "outputs": [
        {
          "output_type": "execute_result",
          "data": {
            "text/plain": [
              "((678,), (170,), (678,), (170,))"
            ]
          },
          "metadata": {},
          "execution_count": 19
        }
      ]
    },
    {
      "cell_type": "code",
      "metadata": {
        "colab": {
          "base_uri": "https://localhost:8080/"
        },
        "id": "jq_ocmbNyEgq",
        "outputId": "5df9da12-d1c6-4053-cac7-b23ab820988f"
      },
      "source": [
        "np.array(x_train[840])/255"
      ],
      "execution_count": null,
      "outputs": [
        {
          "output_type": "execute_result",
          "data": {
            "text/plain": [
              "array([[[0.79215686, 0.81960784, 0.84705882],\n",
              "        [0.76470588, 0.75294118, 0.78823529],\n",
              "        [0.63921569, 0.63137255, 0.67058824],\n",
              "        ...,\n",
              "        [0.58823529, 0.56862745, 0.51372549],\n",
              "        [0.59607843, 0.58431373, 0.5254902 ],\n",
              "        [0.62352941, 0.60392157, 0.54901961]],\n",
              "\n",
              "       [[0.55294118, 0.58823529, 0.65490196],\n",
              "        [0.54509804, 0.58039216, 0.64705882],\n",
              "        [0.54117647, 0.59215686, 0.63921569],\n",
              "        ...,\n",
              "        [0.5254902 , 0.54901961, 0.45882353],\n",
              "        [0.58431373, 0.57647059, 0.52156863],\n",
              "        [0.6       , 0.59607843, 0.52941176]],\n",
              "\n",
              "       [[0.55294118, 0.58431373, 0.65882353],\n",
              "        [0.5372549 , 0.56470588, 0.63921569],\n",
              "        [0.52941176, 0.55686275, 0.63137255],\n",
              "        ...,\n",
              "        [0.54901961, 0.59607843, 0.49019608],\n",
              "        [0.54117647, 0.56470588, 0.48627451],\n",
              "        [0.59607843, 0.62745098, 0.5372549 ]],\n",
              "\n",
              "       ...,\n",
              "\n",
              "       [[0.43921569, 0.51764706, 0.38039216],\n",
              "        [0.42745098, 0.51372549, 0.38039216],\n",
              "        [0.41568627, 0.50980392, 0.37647059],\n",
              "        ...,\n",
              "        [0.42352941, 0.50588235, 0.34117647],\n",
              "        [0.40784314, 0.49019608, 0.33333333],\n",
              "        [0.41176471, 0.49411765, 0.34117647]],\n",
              "\n",
              "       [[0.43137255, 0.52156863, 0.37647059],\n",
              "        [0.42352941, 0.50588235, 0.37647059],\n",
              "        [0.42352941, 0.50980392, 0.36862745],\n",
              "        ...,\n",
              "        [0.41176471, 0.49411765, 0.3372549 ],\n",
              "        [0.41568627, 0.49803922, 0.3372549 ],\n",
              "        [0.41176471, 0.50196078, 0.32941176]],\n",
              "\n",
              "       [[0.43529412, 0.52156863, 0.38431373],\n",
              "        [0.42745098, 0.50980392, 0.38039216],\n",
              "        [0.42352941, 0.50980392, 0.36862745],\n",
              "        ...,\n",
              "        [0.41176471, 0.49411765, 0.33333333],\n",
              "        [0.41568627, 0.49803922, 0.3372549 ],\n",
              "        [0.41176471, 0.49803922, 0.3372549 ]]])"
            ]
          },
          "metadata": {},
          "execution_count": 20
        }
      ]
    },
    {
      "cell_type": "code",
      "metadata": {
        "colab": {
          "base_uri": "https://localhost:8080/"
        },
        "id": "vk9v-evy0LVS",
        "outputId": "dcf3e5ef-5c9f-4fdd-884e-6640523ed8ce"
      },
      "source": [
        "print(x_train)"
      ],
      "execution_count": null,
      "outputs": [
        {
          "output_type": "stream",
          "name": "stdout",
          "text": [
            "420    [[[53, 55, 60], [47, 50, 53], [47, 50, 59], [6...\n",
            "566    [[[154, 146, 135], [152, 145, 131], [144, 138,...\n",
            "65     [[[232, 236, 246], [231, 235, 248], [232, 235,...\n",
            "78     [[[246, 246, 248], [247, 247, 249], [248, 248,...\n",
            "254    [[[158, 149, 139], [184, 176, 165], [205, 196,...\n",
            "                             ...                        \n",
            "553    [[[232, 235, 247], [233, 237, 248], [232, 236,...\n",
            "555    [[[175, 181, 182], [159, 159, 166], [161, 161,...\n",
            "676    [[[173, 171, 184], [177, 175, 186], [178, 176,...\n",
            "836    [[[149, 159, 171], [150, 159, 172], [152, 160,...\n",
            "471    [[[62, 73, 77], [62, 73, 79], [63, 74, 77], [6...\n",
            "Name: Image, Length: 678, dtype: object\n"
          ]
        }
      ]
    },
    {
      "cell_type": "code",
      "metadata": {
        "id": "LCutNryGdkxb"
      },
      "source": [
        "x_train_scaled = []\n",
        "x_test_scaled = []\n",
        "for i in range(848):\n",
        "  if(i in x_train):\n",
        "    x_train_scaled.append(np.array(x_train[i])/255.0)\n",
        "  else:\n",
        "    x_test_scaled.append(np.array(x_test[i])/255.0)\n",
        "    "
      ],
      "execution_count": null,
      "outputs": []
    },
    {
      "cell_type": "code",
      "metadata": {
        "colab": {
          "base_uri": "https://localhost:8080/"
        },
        "id": "CVH_4Gtd5R8K",
        "outputId": "2600d46b-c754-46ae-ca81-c72fb95287b0"
      },
      "source": [
        "len(x_train_scaled)"
      ],
      "execution_count": null,
      "outputs": [
        {
          "output_type": "execute_result",
          "data": {
            "text/plain": [
              "678"
            ]
          },
          "metadata": {},
          "execution_count": 23
        }
      ]
    },
    {
      "cell_type": "code",
      "metadata": {
        "colab": {
          "base_uri": "https://localhost:8080/"
        },
        "id": "Vrq3USsi5WbL",
        "outputId": "adba05d6-538f-466a-fd15-d6c19d296c9e"
      },
      "source": [
        "len(x_test_scaled)"
      ],
      "execution_count": null,
      "outputs": [
        {
          "output_type": "execute_result",
          "data": {
            "text/plain": [
              "170"
            ]
          },
          "metadata": {},
          "execution_count": 24
        }
      ]
    },
    {
      "cell_type": "code",
      "metadata": {
        "colab": {
          "base_uri": "https://localhost:8080/"
        },
        "id": "cz8aIr8z5bpM",
        "outputId": "61af4588-daa3-4309-ef4e-4f6d81d27502"
      },
      "source": [
        "x_train_scaled[0]"
      ],
      "execution_count": null,
      "outputs": [
        {
          "output_type": "execute_result",
          "data": {
            "text/plain": [
              "array([[[0.68627451, 0.72156863, 0.75686275],\n",
              "        [0.69019608, 0.71764706, 0.75686275],\n",
              "        [0.69803922, 0.7254902 , 0.76470588],\n",
              "        ...,\n",
              "        [0.77647059, 0.77647059, 0.79607843],\n",
              "        [0.77647059, 0.77254902, 0.79215686],\n",
              "        [0.77254902, 0.76862745, 0.78823529]],\n",
              "\n",
              "       [[0.68235294, 0.72156863, 0.75686275],\n",
              "        [0.68235294, 0.71764706, 0.75294118],\n",
              "        [0.69019608, 0.71764706, 0.75686275],\n",
              "        ...,\n",
              "        [0.76078431, 0.77254902, 0.79215686],\n",
              "        [0.76078431, 0.76862745, 0.78823529],\n",
              "        [0.76078431, 0.76470588, 0.78431373]],\n",
              "\n",
              "       [[0.67058824, 0.70588235, 0.74117647],\n",
              "        [0.6745098 , 0.70980392, 0.74509804],\n",
              "        [0.67843137, 0.71372549, 0.74901961],\n",
              "        ...,\n",
              "        [0.72941176, 0.74901961, 0.77254902],\n",
              "        [0.72941176, 0.74901961, 0.77254902],\n",
              "        [0.72941176, 0.74901961, 0.77254902]],\n",
              "\n",
              "       ...,\n",
              "\n",
              "       [[0.61176471, 0.60392157, 0.61960784],\n",
              "        [0.6627451 , 0.65490196, 0.6627451 ],\n",
              "        [0.68627451, 0.66666667, 0.65490196],\n",
              "        ...,\n",
              "        [0.42745098, 0.42745098, 0.43921569],\n",
              "        [0.48235294, 0.4627451 , 0.44705882],\n",
              "        [0.42352941, 0.38823529, 0.35294118]],\n",
              "\n",
              "       [[0.61960784, 0.61568627, 0.63529412],\n",
              "        [0.68627451, 0.67058824, 0.66666667],\n",
              "        [0.68627451, 0.66666667, 0.65490196],\n",
              "        ...,\n",
              "        [0.4       , 0.4       , 0.41176471],\n",
              "        [0.5372549 , 0.50980392, 0.49411765],\n",
              "        [0.43921569, 0.41176471, 0.38039216]],\n",
              "\n",
              "       [[0.62352941, 0.61960784, 0.64313725],\n",
              "        [0.69411765, 0.68235294, 0.66666667],\n",
              "        [0.69803922, 0.67843137, 0.66666667],\n",
              "        ...,\n",
              "        [0.39215686, 0.38039216, 0.38823529],\n",
              "        [0.52941176, 0.49411765, 0.48627451],\n",
              "        [0.44313725, 0.42352941, 0.4       ]]])"
            ]
          },
          "metadata": {},
          "execution_count": 25
        }
      ]
    },
    {
      "cell_type": "code",
      "metadata": {
        "colab": {
          "base_uri": "https://localhost:8080/"
        },
        "id": "flNDHLQs5jPD",
        "outputId": "c1bdaa05-6b3f-47b1-8215-cfd1e1ffd35f"
      },
      "source": [
        "x_test_scaled[0]"
      ],
      "execution_count": null,
      "outputs": [
        {
          "output_type": "execute_result",
          "data": {
            "text/plain": [
              "array([[[0.80784314, 0.8       , 0.85098039],\n",
              "        [0.80784314, 0.8       , 0.85098039],\n",
              "        [0.80784314, 0.8       , 0.85098039],\n",
              "        ...,\n",
              "        [0.20784314, 0.18431373, 0.2       ],\n",
              "        [0.51764706, 0.48235294, 0.48235294],\n",
              "        [0.5254902 , 0.49019608, 0.49411765]],\n",
              "\n",
              "       [[0.80784314, 0.8       , 0.84705882],\n",
              "        [0.80784314, 0.8       , 0.84705882],\n",
              "        [0.80784314, 0.8       , 0.84705882],\n",
              "        ...,\n",
              "        [0.22352941, 0.2       , 0.20784314],\n",
              "        [0.51764706, 0.48627451, 0.48235294],\n",
              "        [0.53333333, 0.49803922, 0.50196078]],\n",
              "\n",
              "       [[0.80784314, 0.8       , 0.84313725],\n",
              "        [0.80784314, 0.8       , 0.84313725],\n",
              "        [0.80784314, 0.8       , 0.84313725],\n",
              "        ...,\n",
              "        [0.23137255, 0.20784314, 0.20784314],\n",
              "        [0.53333333, 0.50196078, 0.49411765],\n",
              "        [0.54509804, 0.50980392, 0.51372549]],\n",
              "\n",
              "       ...,\n",
              "\n",
              "       [[0.34509804, 0.42745098, 0.39215686],\n",
              "        [0.36470588, 0.44705882, 0.42745098],\n",
              "        [0.38039216, 0.47058824, 0.43921569],\n",
              "        ...,\n",
              "        [0.44313725, 0.5254902 , 0.52156863],\n",
              "        [0.43529412, 0.51764706, 0.52941176],\n",
              "        [0.42352941, 0.51764706, 0.51764706]],\n",
              "\n",
              "       [[0.38431373, 0.4627451 , 0.42745098],\n",
              "        [0.38823529, 0.46666667, 0.43529412],\n",
              "        [0.38039216, 0.45882353, 0.43529412],\n",
              "        ...,\n",
              "        [0.43529412, 0.50588235, 0.50588235],\n",
              "        [0.44705882, 0.51764706, 0.52156863],\n",
              "        [0.45098039, 0.5254902 , 0.51764706]],\n",
              "\n",
              "       [[0.40784314, 0.48627451, 0.44313725],\n",
              "        [0.40784314, 0.4745098 , 0.43529412],\n",
              "        [0.41960784, 0.4745098 , 0.44705882],\n",
              "        ...,\n",
              "        [0.45098039, 0.52941176, 0.5254902 ],\n",
              "        [0.4745098 , 0.55294118, 0.54901961],\n",
              "        [0.49411765, 0.55294118, 0.55294118]]])"
            ]
          },
          "metadata": {},
          "execution_count": 26
        }
      ]
    },
    {
      "cell_type": "code",
      "metadata": {
        "id": "p7MAL1_X51tQ"
      },
      "source": [
        "feature_extractor = \"https://tfhub.dev/google/tf2-preview/mobilenet_v2/feature_vector/4\"\n",
        "pretrained_model_without_top_layer = hub.KerasLayer(\n",
        "feature_extractor, input_shape = (224,224,3), trainable = False)"
      ],
      "execution_count": null,
      "outputs": []
    },
    {
      "cell_type": "code",
      "metadata": {
        "colab": {
          "base_uri": "https://localhost:8080/"
        },
        "id": "Bs1VCAiu6Ccd",
        "outputId": "a2e77c10-0e34-466d-a6c2-b8232d4203bc"
      },
      "source": [
        "model = tf.keras.Sequential([\n",
        "    pretrained_model_without_top_layer,\n",
        "    tf.keras.layers.Dense(128),\n",
        "    tf.keras.layers.Dropout(0.2),\n",
        "    tf.keras.layers.Dense(2)\n",
        "])\n",
        "\n",
        "model.summary()"
      ],
      "execution_count": null,
      "outputs": [
        {
          "output_type": "stream",
          "name": "stdout",
          "text": [
            "Model: \"sequential\"\n",
            "_________________________________________________________________\n",
            " Layer (type)                Output Shape              Param #   \n",
            "=================================================================\n",
            " keras_layer (KerasLayer)    (None, 1280)              2257984   \n",
            "                                                                 \n",
            " dense (Dense)               (None, 128)               163968    \n",
            "                                                                 \n",
            " dropout (Dropout)           (None, 128)               0         \n",
            "                                                                 \n",
            " dense_1 (Dense)             (None, 2)                 258       \n",
            "                                                                 \n",
            "=================================================================\n",
            "Total params: 2,422,210\n",
            "Trainable params: 164,226\n",
            "Non-trainable params: 2,257,984\n",
            "_________________________________________________________________\n"
          ]
        }
      ]
    },
    {
      "cell_type": "code",
      "metadata": {
        "id": "I6tROBiM6FER"
      },
      "source": [
        "model.compile(\n",
        "    optimizer=\"adam\",\n",
        "    loss = tf.keras.losses.SparseCategoricalCrossentropy(from_logits=True),\n",
        "    metrics=[\"acc\"]\n",
        ")"
      ],
      "execution_count": null,
      "outputs": []
    },
    {
      "cell_type": "code",
      "metadata": {
        "id": "mgQDUTzk6KL-"
      },
      "source": [
        "x_train_scaled = np.array(x_train_scaled)"
      ],
      "execution_count": null,
      "outputs": []
    },
    {
      "cell_type": "code",
      "metadata": {
        "id": "wc_ZO-6t6OlU"
      },
      "source": [
        "y_train1 = np.array(y_train)"
      ],
      "execution_count": null,
      "outputs": []
    },
    {
      "cell_type": "code",
      "metadata": {
        "id": "9slgwkp36TsE"
      },
      "source": [
        "x_test_scaled = np.array(x_test_scaled)\n",
        "y_test1 = np.array(y_test)"
      ],
      "execution_count": null,
      "outputs": []
    },
    {
      "cell_type": "code",
      "metadata": {
        "colab": {
          "base_uri": "https://localhost:8080/"
        },
        "id": "BqZ6kTmPvKzh",
        "outputId": "8587f0a6-e5f8-4569-d91a-7452dd406b24"
      },
      "source": [
        "model.fit(x_train_scaled, y_train1, validation_data=(x_test_scaled, y_test),epochs = 10,verbose=2)"
      ],
      "execution_count": null,
      "outputs": [
        {
          "output_type": "stream",
          "name": "stdout",
          "text": [
            "Epoch 1/10\n",
            "22/22 - 21s - loss: 0.5732 - acc: 0.7168 - val_loss: 0.6837 - val_acc: 0.6176 - 21s/epoch - 957ms/step\n",
            "Epoch 2/10\n",
            "22/22 - 21s - loss: 0.4973 - acc: 0.7699 - val_loss: 0.6902 - val_acc: 0.6471 - 21s/epoch - 955ms/step\n",
            "Epoch 3/10\n",
            "22/22 - 21s - loss: 0.4711 - acc: 0.7935 - val_loss: 1.1031 - val_acc: 0.6471 - 21s/epoch - 955ms/step\n",
            "Epoch 4/10\n",
            "22/22 - 21s - loss: 0.5315 - acc: 0.7463 - val_loss: 0.7719 - val_acc: 0.5647 - 21s/epoch - 956ms/step\n",
            "Epoch 5/10\n",
            "22/22 - 21s - loss: 0.3967 - acc: 0.7994 - val_loss: 0.7528 - val_acc: 0.6000 - 21s/epoch - 957ms/step\n",
            "Epoch 6/10\n",
            "22/22 - 21s - loss: 0.3580 - acc: 0.8481 - val_loss: 0.7702 - val_acc: 0.5471 - 21s/epoch - 959ms/step\n",
            "Epoch 7/10\n",
            "22/22 - 21s - loss: 0.3708 - acc: 0.8378 - val_loss: 0.8380 - val_acc: 0.6000 - 21s/epoch - 958ms/step\n",
            "Epoch 8/10\n",
            "22/22 - 21s - loss: 0.3523 - acc: 0.8525 - val_loss: 0.8413 - val_acc: 0.5824 - 21s/epoch - 957ms/step\n",
            "Epoch 9/10\n",
            "22/22 - 21s - loss: 0.3147 - acc: 0.8496 - val_loss: 0.9164 - val_acc: 0.5647 - 21s/epoch - 960ms/step\n",
            "Epoch 10/10\n",
            "22/22 - 21s - loss: 0.3480 - acc: 0.8437 - val_loss: 0.9010 - val_acc: 0.5824 - 21s/epoch - 957ms/step\n"
          ]
        },
        {
          "output_type": "execute_result",
          "data": {
            "text/plain": [
              "<keras.callbacks.History at 0x7f17eb9567d0>"
            ]
          },
          "metadata": {},
          "execution_count": 51
        }
      ]
    },
    {
      "cell_type": "code",
      "metadata": {
        "id": "K4jNY1mWjcqM"
      },
      "source": [
        "from sklearn import metrics\n",
        "from sklearn.metrics import accuracy_score\n",
        "from sklearn.metrics import confusion_matrix\n",
        "pred = model.predict(x_test_scaled)\n"
      ],
      "execution_count": null,
      "outputs": []
    },
    {
      "cell_type": "code",
      "metadata": {
        "id": "RvbiYej1wK7b",
        "colab": {
          "base_uri": "https://localhost:8080/"
        },
        "outputId": "704031b6-c0a8-44cf-8483-170fb8c916f0"
      },
      "source": [
        "prd = np.argmax(pred,axis=1)\n",
        "prd"
      ],
      "execution_count": null,
      "outputs": [
        {
          "output_type": "execute_result",
          "data": {
            "text/plain": [
              "array([1, 0, 1, 1, 1, 1, 1, 1, 1, 1, 1, 1, 1, 1, 1, 1, 1, 1, 1, 1, 0, 0,\n",
              "       1, 1, 1, 1, 1, 1, 1, 1, 0, 1, 1, 0, 1, 1, 1, 1, 1, 1, 1, 1, 1, 1,\n",
              "       1, 1, 1, 1, 1, 1, 0, 1, 1, 1, 1, 1, 1, 0, 1, 1, 1, 1, 1, 1, 1, 1,\n",
              "       1, 0, 1, 1, 1, 0, 0, 1, 1, 0, 1, 1, 1, 0, 1, 0, 1, 0, 0, 1, 1, 1,\n",
              "       1, 1, 1, 1, 1, 1, 1, 1, 1, 1, 1, 1, 1, 1, 1, 1, 0, 1, 1, 1, 1, 1,\n",
              "       1, 0, 0, 0, 1, 1, 1, 0, 1, 0, 1, 0, 0, 1, 1, 1, 1, 1, 1, 1, 0, 1,\n",
              "       1, 1, 1, 1, 1, 1, 1, 1, 1, 1, 1, 1, 1, 1, 1, 1, 1, 1, 1, 1, 1, 1,\n",
              "       0, 1, 1, 0, 1, 1, 0, 1, 1, 1, 1, 1, 0, 1, 1, 0])"
            ]
          },
          "metadata": {},
          "execution_count": 53
        }
      ]
    },
    {
      "cell_type": "code",
      "metadata": {
        "id": "upFfrzQIwt8E"
      },
      "source": [
        "import tensorflow_datasets as tfds\n",
        "import tensorflow as tf\n",
        "from sklearn.metrics import confusion_matrix\n"
      ],
      "execution_count": null,
      "outputs": []
    },
    {
      "cell_type": "code",
      "metadata": {
        "colab": {
          "base_uri": "https://localhost:8080/"
        },
        "id": "FqlbQUHg_lEA",
        "outputId": "8af27906-5d2f-4b74-b7ea-17a24997b248"
      },
      "source": [
        "confusion_matrix(prd, y_test1)"
      ],
      "execution_count": null,
      "outputs": [
        {
          "output_type": "execute_result",
          "data": {
            "text/plain": [
              "array([[ 9, 20],\n",
              "       [51, 90]])"
            ]
          },
          "metadata": {},
          "execution_count": 55
        }
      ]
    },
    {
      "cell_type": "code",
      "metadata": {
        "colab": {
          "base_uri": "https://localhost:8080/"
        },
        "id": "q8dop50bA_Vj",
        "outputId": "974353d2-8c05-44c2-d622-e163748bb6f5"
      },
      "source": [
        "from sklearn import metrics\n",
        "print(metrics.classification_report(y_test1,prd))"
      ],
      "execution_count": null,
      "outputs": [
        {
          "output_type": "stream",
          "name": "stdout",
          "text": [
            "              precision    recall  f1-score   support\n",
            "\n",
            "           0       0.31      0.15      0.20        60\n",
            "           1       0.64      0.82      0.72       110\n",
            "\n",
            "    accuracy                           0.58       170\n",
            "   macro avg       0.47      0.48      0.46       170\n",
            "weighted avg       0.52      0.58      0.54       170\n",
            "\n"
          ]
        }
      ]
    }
  ]
}