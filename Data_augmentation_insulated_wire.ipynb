{
  "nbformat": 4,
  "nbformat_minor": 0,
  "metadata": {
    "colab": {
      "name": "Data_augmentation.ipynb",
      "provenance": [],
      "collapsed_sections": []
    },
    "kernelspec": {
      "name": "python3",
      "display_name": "Python 3"
    },
    "language_info": {
      "name": "python"
    },
    "accelerator": "TPU"
  },
  "cells": [
    {
      "cell_type": "code",
      "execution_count": null,
      "metadata": {
        "colab": {
          "base_uri": "https://localhost:8080/"
        },
        "id": "NbhycqU2PCBO",
        "outputId": "406095e4-56c4-4ce2-f165-b53d4083e529"
      },
      "outputs": [
        {
          "output_type": "stream",
          "name": "stdout",
          "text": [
            "Mounted at /content/gdrive\n"
          ]
        }
      ],
      "source": [
        "from google.colab import drive\n",
        "drive.mount('/content/gdrive')"
      ]
    },
    {
      "cell_type": "code",
      "source": [
        "root_path='/content/gdrive/MyDrive/Datasets/insulator_data/Defective_Insulators/images/'"
      ],
      "metadata": {
        "id": "PqSu-vs2PtTl"
      },
      "execution_count": null,
      "outputs": []
    },
    {
      "cell_type": "code",
      "source": [
        "import pandas as pd\n",
        "import numpy as np\n",
        "import cv2\n",
        "import os\n",
        "from pathlib import Path\n",
        "import glob\n",
        "import os\n",
        "import cv2\n",
        "import matplotlib.pyplot as plt\n",
        "from PIL import Image\n",
        "import tensorflow as tf\n",
        "from tensorflow import keras\n",
        "from tensorflow.keras import layers\n",
        "from tensorflow.keras.models import Sequential\n",
        "import tensorflow_hub as hub"
      ],
      "metadata": {
        "id": "jFteByN1Pv3f"
      },
      "execution_count": null,
      "outputs": []
    },
    {
      "cell_type": "code",
      "source": [
        "img = cv2.imread('/content/gdrive/MyDrive/Datasets/insulator_data/Defective_Insulators/images/000.jpg', cv2.IMREAD_COLOR)\n",
        "img"
      ],
      "metadata": {
        "colab": {
          "base_uri": "https://localhost:8080/"
        },
        "id": "cJOfijXAP2Fh",
        "outputId": "7747e6db-38da-4fae-ab10-7ad50eb574f7"
      },
      "execution_count": null,
      "outputs": [
        {
          "output_type": "execute_result",
          "data": {
            "text/plain": [
              "array([[[217, 204, 206],\n",
              "        [217, 204, 206],\n",
              "        [217, 204, 206],\n",
              "        ...,\n",
              "        [127, 126, 135],\n",
              "        [127, 127, 133],\n",
              "        [129, 129, 135]],\n",
              "\n",
              "       [[217, 204, 206],\n",
              "        [217, 204, 206],\n",
              "        [217, 204, 206],\n",
              "        ...,\n",
              "        [126, 125, 134],\n",
              "        [126, 126, 132],\n",
              "        [127, 127, 133]],\n",
              "\n",
              "       [[217, 204, 206],\n",
              "        [217, 204, 206],\n",
              "        [217, 204, 206],\n",
              "        ...,\n",
              "        [126, 125, 134],\n",
              "        [125, 125, 131],\n",
              "        [126, 126, 132]],\n",
              "\n",
              "       ...,\n",
              "\n",
              "       [[107, 118,  98],\n",
              "        [112, 123, 103],\n",
              "        [115, 126, 106],\n",
              "        ...,\n",
              "        [145, 146, 130],\n",
              "        [138, 141, 126],\n",
              "        [136, 139, 124]],\n",
              "\n",
              "       [[111, 122, 102],\n",
              "        [113, 124, 104],\n",
              "        [111, 122, 102],\n",
              "        ...,\n",
              "        [138, 139, 123],\n",
              "        [135, 138, 123],\n",
              "        [131, 134, 119]],\n",
              "\n",
              "       [[113, 124, 104],\n",
              "        [113, 124, 104],\n",
              "        [111, 122, 102],\n",
              "        ...,\n",
              "        [131, 132, 116],\n",
              "        [135, 138, 123],\n",
              "        [135, 138, 123]]], dtype=uint8)"
            ]
          },
          "metadata": {},
          "execution_count": 4
        }
      ]
    },
    {
      "cell_type": "code",
      "source": [
        "image = []                  # used to store image data\n",
        "img_label = []              # used to store image label\n",
        "img_indexes = []            # used to store image name\n",
        "for i in range(248):\n",
        "  img = cv2.imread('/content/gdrive/MyDrive/Datasets/insulator_data/Defective_Insulators/images/'+str(f'{i:03}')+'.jpg', cv2.IMREAD_COLOR)  \n",
        "    # read image using opencv \n",
        "  img = cv2.resize(img, (224,224))                                                                   #resize image \n",
        "  img = cv2.cvtColor(img, cv2.COLOR_RGB2BGR)\n",
        "  image.append(img)\n",
        "  img_label.append(0)                             #store label of each image in img_label\n",
        "  img_indexes.append(f'{i:03}')"
      ],
      "metadata": {
        "id": "DxO2qz9dP_h9"
      },
      "execution_count": null,
      "outputs": []
    },
    {
      "cell_type": "code",
      "source": [
        "image1 = []                  # used to store image data\n",
        "img_label1 = []              # used to store image label\n",
        "img_indexes1 = []            # used to store image name\n",
        "for i in range(3617):\n",
        "    if (os.path.exists(\"/content/gdrive/MyDrive/Datasets/insulator_data/Normal_Insulators/images/\"+str(f'{i:04}')+'.jpg') == True):         # check if image exists or not\n",
        "        img = cv2.imread('/content/gdrive/MyDrive/Datasets/insulator_data/Normal_Insulators/images/'+str(f'{i:04}')+'.jpg', cv2.IMREAD_COLOR)       # read image using opencv \n",
        "        img = cv2.resize(img, (224,224))                                                                   #resize image \n",
        "        img = cv2.cvtColor(img, cv2.COLOR_RGB2BGR)\n",
        "        image1.append(img)\n",
        "        img_label1.append(1)                             #store label of each image in img_label\n",
        "        img_indexes1.append(f'{i:03}')\n",
        "    else:\n",
        "        pass"
      ],
      "metadata": {
        "id": "1xfiuiZeQazR"
      },
      "execution_count": null,
      "outputs": []
    },
    {
      "cell_type": "code",
      "source": [
        "final_img=np.array(image+image1)\n",
        "final_label=np.array(img_label+img_label1)"
      ],
      "metadata": {
        "id": "maBfixakRQzG"
      },
      "execution_count": null,
      "outputs": []
    },
    {
      "cell_type": "code",
      "source": [
        "print(final_img.shape)\n",
        "print(final_img.shape[1])\n",
        "print(final_img.shape[2])\n",
        "f = (final_img.shape[0], final_img.shape[2])\n",
        "print(f)"
      ],
      "metadata": {
        "colab": {
          "base_uri": "https://localhost:8080/"
        },
        "id": "G7ehyrOCRVpe",
        "outputId": "cbe3f5a2-45b6-4e06-a728-6a5d2f5ba542"
      },
      "execution_count": null,
      "outputs": [
        {
          "output_type": "stream",
          "name": "stdout",
          "text": [
            "(848, 224, 224, 3)\n",
            "224\n",
            "224\n",
            "(848, 224)\n"
          ]
        }
      ]
    },
    {
      "cell_type": "code",
      "source": [
        "df = pd.DataFrame(list(zip(final_img, final_label)),columns =['Image','label'])\n",
        "df.head()"
      ],
      "metadata": {
        "colab": {
          "base_uri": "https://localhost:8080/",
          "height": 206
        },
        "id": "KfpaAskhReg3",
        "outputId": "19482448-8436-43d6-ba5f-d2e0c1484415"
      },
      "execution_count": null,
      "outputs": [
        {
          "output_type": "execute_result",
          "data": {
            "text/html": [
              "<div>\n",
              "<style scoped>\n",
              "    .dataframe tbody tr th:only-of-type {\n",
              "        vertical-align: middle;\n",
              "    }\n",
              "\n",
              "    .dataframe tbody tr th {\n",
              "        vertical-align: top;\n",
              "    }\n",
              "\n",
              "    .dataframe thead th {\n",
              "        text-align: right;\n",
              "    }\n",
              "</style>\n",
              "<table border=\"1\" class=\"dataframe\">\n",
              "  <thead>\n",
              "    <tr style=\"text-align: right;\">\n",
              "      <th></th>\n",
              "      <th>Image</th>\n",
              "      <th>label</th>\n",
              "    </tr>\n",
              "  </thead>\n",
              "  <tbody>\n",
              "    <tr>\n",
              "      <th>0</th>\n",
              "      <td>[[[206, 204, 217], [206, 204, 217], [206, 204,...</td>\n",
              "      <td>0</td>\n",
              "    </tr>\n",
              "    <tr>\n",
              "      <th>1</th>\n",
              "      <td>[[[175, 184, 193], [176, 183, 193], [178, 185,...</td>\n",
              "      <td>0</td>\n",
              "    </tr>\n",
              "    <tr>\n",
              "      <th>2</th>\n",
              "      <td>[[[102, 109, 107], [104, 108, 111], [108, 110,...</td>\n",
              "      <td>0</td>\n",
              "    </tr>\n",
              "    <tr>\n",
              "      <th>3</th>\n",
              "      <td>[[[203, 207, 216], [203, 207, 216], [204, 208,...</td>\n",
              "      <td>0</td>\n",
              "    </tr>\n",
              "    <tr>\n",
              "      <th>4</th>\n",
              "      <td>[[[157, 183, 154], [156, 183, 152], [159, 186,...</td>\n",
              "      <td>0</td>\n",
              "    </tr>\n",
              "  </tbody>\n",
              "</table>\n",
              "</div>"
            ],
            "text/plain": [
              "                                               Image  label\n",
              "0  [[[206, 204, 217], [206, 204, 217], [206, 204,...      0\n",
              "1  [[[175, 184, 193], [176, 183, 193], [178, 185,...      0\n",
              "2  [[[102, 109, 107], [104, 108, 111], [108, 110,...      0\n",
              "3  [[[203, 207, 216], [203, 207, 216], [204, 208,...      0\n",
              "4  [[[157, 183, 154], [156, 183, 152], [159, 186,...      0"
            ]
          },
          "metadata": {},
          "execution_count": 9
        }
      ]
    },
    {
      "cell_type": "code",
      "source": [
        "a_f=[]\n",
        "a_level=[]\n",
        "data_augmentation = tf.keras.Sequential([\n",
        "  layers.RandomFlip(\"horizontal_and_vertical\"),\n",
        "  layers.RandomRotation(0.2),\n",
        "])\n",
        "for i in range(len(final_img)):\n",
        "  augmented_image = data_augmentation(df[\"Image\"][i])\n",
        "  a_f.append(augmented_image)\n",
        "  a_level.append(df[\"label\"][i])\n",
        "  "
      ],
      "metadata": {
        "id": "07FWtbapRsWv"
      },
      "execution_count": null,
      "outputs": []
    },
    {
      "cell_type": "code",
      "source": [
        "len(a_f)"
      ],
      "metadata": {
        "colab": {
          "base_uri": "https://localhost:8080/"
        },
        "id": "WOyhHMjBVC2M",
        "outputId": "af61621b-364b-4589-8478-e1c6ba0ab7b8"
      },
      "execution_count": null,
      "outputs": [
        {
          "output_type": "execute_result",
          "data": {
            "text/plain": [
              "848"
            ]
          },
          "metadata": {},
          "execution_count": 11
        }
      ]
    },
    {
      "cell_type": "code",
      "source": [
        "a_level[0]"
      ],
      "metadata": {
        "colab": {
          "base_uri": "https://localhost:8080/"
        },
        "id": "-WxA3lPkVH4N",
        "outputId": "d8a168ae-1372-44d8-9370-9f0ded1c4257"
      },
      "execution_count": null,
      "outputs": [
        {
          "output_type": "execute_result",
          "data": {
            "text/plain": [
              "0"
            ]
          },
          "metadata": {},
          "execution_count": 12
        }
      ]
    },
    {
      "cell_type": "code",
      "source": [
        "def random_invert_img(x, p=0.5):\n",
        "  if  tf.random.uniform([]) < p:\n",
        "    x = (255-x)\n",
        "  else:\n",
        "    x\n",
        "  return x\n",
        "\n",
        "def random_invert(factor=0.5):\n",
        "  return layers.Lambda(lambda x: random_invert_img(x, factor))\n",
        "\n",
        "random_invert = random_invert()"
      ],
      "metadata": {
        "id": "bfKqGL50Vs6S"
      },
      "execution_count": null,
      "outputs": []
    },
    {
      "cell_type": "code",
      "source": [
        "for i in range(len(final_img)):\n",
        "  for i in range(9):\n",
        "    augmented_image = random_invert(df[\"Image\"][i])\n",
        "    a_f.append(augmented_image)\n",
        "    a_level.append(df[\"label\"][i])"
      ],
      "metadata": {
        "id": "IXvJKYrHVx_U"
      },
      "execution_count": null,
      "outputs": []
    },
    {
      "cell_type": "code",
      "source": [
        "len(a_f)"
      ],
      "metadata": {
        "colab": {
          "base_uri": "https://localhost:8080/"
        },
        "id": "JN0Apnfnbu7V",
        "outputId": "8f145666-5a9d-44d8-e84b-d57e13470371"
      },
      "execution_count": null,
      "outputs": [
        {
          "output_type": "execute_result",
          "data": {
            "text/plain": [
              "8480"
            ]
          },
          "metadata": {},
          "execution_count": 15
        }
      ]
    },
    {
      "cell_type": "code",
      "source": [
        "for i in range(len(final_img)):\n",
        "  augmented_image = tf.image.flip_left_right(df[\"Image\"][i])\n",
        "  a_f.append(augmented_image)\n",
        "  a_level.append(df[\"label\"][i])\n"
      ],
      "metadata": {
        "id": "qg2fwAeYb5TY"
      },
      "execution_count": null,
      "outputs": []
    },
    {
      "cell_type": "code",
      "source": [
        "len(a_f)"
      ],
      "metadata": {
        "colab": {
          "base_uri": "https://localhost:8080/"
        },
        "id": "gWI40nfRcpes",
        "outputId": "66ef2178-4c22-4c7c-9722-fe5fd6ad2482"
      },
      "execution_count": null,
      "outputs": [
        {
          "output_type": "execute_result",
          "data": {
            "text/plain": [
              "9328"
            ]
          },
          "metadata": {},
          "execution_count": 17
        }
      ]
    },
    {
      "cell_type": "code",
      "source": [
        "for i in range(len(final_img)):\n",
        "  augmented_image = tf.image.rgb_to_grayscale(df[\"Image\"][i])\n",
        "  a_f.append(augmented_image)\n",
        "  a_level.append(df[\"label\"][i])"
      ],
      "metadata": {
        "id": "RqlVjioseoNo"
      },
      "execution_count": null,
      "outputs": []
    },
    {
      "cell_type": "code",
      "source": [
        "len(a_f)"
      ],
      "metadata": {
        "colab": {
          "base_uri": "https://localhost:8080/"
        },
        "id": "SWnmfpIrewSs",
        "outputId": "45da5424-e601-461f-ee14-ae1db90e7252"
      },
      "execution_count": null,
      "outputs": [
        {
          "output_type": "execute_result",
          "data": {
            "text/plain": [
              "10176"
            ]
          },
          "metadata": {},
          "execution_count": 19
        }
      ]
    },
    {
      "cell_type": "code",
      "source": [
        "for i in range(len(final_img)):\n",
        "  augmented_image =  tf.image.adjust_saturation(df[\"Image\"][i], 3)\n",
        "  a_f.append(augmented_image)\n",
        "  a_level.append(df[\"label\"][i])"
      ],
      "metadata": {
        "id": "1JXs1OBEfuZh"
      },
      "execution_count": null,
      "outputs": []
    },
    {
      "cell_type": "code",
      "source": [
        "len(a_f)"
      ],
      "metadata": {
        "colab": {
          "base_uri": "https://localhost:8080/"
        },
        "id": "XxIB_phtgMTW",
        "outputId": "10c7a8f8-0875-45b1-b059-d4ac4a6ccc78"
      },
      "execution_count": null,
      "outputs": [
        {
          "output_type": "execute_result",
          "data": {
            "text/plain": [
              "11024"
            ]
          },
          "metadata": {},
          "execution_count": 22
        }
      ]
    },
    {
      "cell_type": "code",
      "source": [
        "for i in range(len(final_img)):\n",
        "  for i in range(3):\n",
        "    seed = (i,0)  # tuple of size (2,)\n",
        "    augmented_image = tf.image.stateless_random_brightness(\n",
        "    df[\"Image\"][i], max_delta=0.8, seed=seed)\n",
        "    a_f.append(augmented_image)\n",
        "    a_level.append(df[\"label\"][i])"
      ],
      "metadata": {
        "id": "A0pQDuG_gOC3"
      },
      "execution_count": null,
      "outputs": []
    },
    {
      "cell_type": "code",
      "source": [
        "len(a_f)"
      ],
      "metadata": {
        "colab": {
          "base_uri": "https://localhost:8080/"
        },
        "id": "S0OpltZHhl1o",
        "outputId": "daf63d1d-41c1-4963-f46b-069fb2f9a747"
      },
      "execution_count": null,
      "outputs": [
        {
          "output_type": "execute_result",
          "data": {
            "text/plain": [
              "13568"
            ]
          },
          "metadata": {},
          "execution_count": 26
        }
      ]
    }
  ]
}